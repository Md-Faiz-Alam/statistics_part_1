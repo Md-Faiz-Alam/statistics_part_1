{
  "nbformat": 4,
  "nbformat_minor": 0,
  "metadata": {
    "colab": {
      "provenance": []
    },
    "kernelspec": {
      "name": "python3",
      "display_name": "Python 3"
    },
    "language_info": {
      "name": "python"
    }
  },
  "cells": [
    {
      "cell_type": "markdown",
      "source": [
        "---\n",
        "---\n",
        "#Statistics Advanced 1 Theoretical\n",
        "---\n",
        "---\n",
        "###1. What is a random variable in probability theory?\n",
        "A random variable is a numerical outcome of a random process. It represents possible values from an experiment along with their probabilities.\n",
        "\n",
        "Example:\n",
        "\n",
        "Rolling a die → The outcome (1-6) is a random variable.\n",
        "Measuring temperature → The temperature in °C is a random variable.\n",
        "Random variables are categorized as discrete (countable values) and continuous (infinite values in a range).\n",
        "\n",
        "---\n",
        "###2. What are the types of random variables?\n",
        "There are two main types of random variables:\n",
        "\n",
        "Discrete Random Variable – Takes countable values (e.g., number of customers arriving at a store).                  \n",
        "Continuous Random Variable – Takes infinite values within a range (e.g., height of students in a class).\n",
        "\n",
        "---\n",
        "###3. What is the difference between discrete and continuous distributions?\n",
        "Difference Between Discrete and Continuous Distributions\n",
        "\n",
        "| Feature               | Discrete Distribution            | Continuous Distribution           |\n",
        "|-----------------------|--------------------------------|----------------------------------|\n",
        "| **Definition**       | Takes countable values        | Takes infinite values in a range |\n",
        "| **Probability Computation** | Summation (ΣP(X))        | Integration (∫f(x)dx)            |\n",
        "| **Example**         | Number of customers in a store | Height of students in a class   |\n",
        "| **Common Distributions** | Binomial, Poisson          | Normal, Exponential             |\n",
        "| **Probability Value** | Exact probability \\( P(X = x) \\) | Probability of a range \\( P(a \\leq X \\leq b) \\) |\n",
        "\n",
        "Example: Binomial Distribution (Discrete) vs. Normal Distribution (Continuous).\n",
        "\n",
        "---\n",
        "###4. What are probability distribution functions (PDF)?\n",
        "A Probability Distribution Function (PDF) describes the likelihood of a random variable taking specific values.\n",
        "\n",
        "For discrete variables, it's called the Probability Mass Function (PMF):\n",
        "P(X=x)                                                              \n",
        "For continuous variables, it's the Probability Density Function (PDF):\n",
        "f(x)                                                         \n",
        "The probability is obtained by integrating over an interval:\n",
        "P(a≤X≤b)=∫\n",
        "a\n",
        "b\n",
        "​\n",
        " f(x)dx\n",
        "Example: The normal distribution's PDF is:\n",
        "𝑓\n",
        "(\n",
        "𝑥\n",
        ")\n",
        "=\n",
        "1\n",
        "𝜎\n",
        "2\n",
        "𝜋\n",
        "𝑒\n",
        "−\n",
        "(\n",
        "𝑥\n",
        "−\n",
        "𝜇\n",
        ")\n",
        "2\n",
        "2\n",
        "𝜎\n",
        "2\n",
        "f(x)=\n",
        "σ\n",
        "2π\n",
        "​\n",
        "\n",
        "1\n",
        "​\n",
        " e\n",
        "−\n",
        "2σ\n",
        "2\n",
        "\n",
        "(x−μ)\n",
        "2\n",
        "\n",
        "---\n",
        "###5. How do cumulative distribution functions (CDF) differ from probability distribution functions (PDF)?\n",
        "The CDF gives the probability that a random variable is less than or equal to a given value:\n",
        "F(x)=P(X≤x)\n",
        "It is obtained by integrating the PDF:\n",
        "F(x)=∫\n",
        "−∞\n",
        "x\n",
        "​\n",
        " f(t)dt\n",
        "\n",
        "✅ Key Difference:\n",
        "\n",
        "PDF describes density of probability.                              \n",
        "CDF describes cumulative probability (total probability up to a point).     \n",
        "Example: For a normal distribution, the CDF tells us the probability of a value being below a threshold.\n",
        "\n",
        "---\n",
        "###6. What is a discrete uniform distribution?\n",
        "A discrete uniform distribution is one where all possible outcomes have equal probability.\n",
        "\n",
        "Example: A fair die roll (1-6) follows a uniform distribution, with probability:\n",
        "P(X=x)=\n",
        "6\n",
        "1\n",
        "​\n",
        " ,x∈{1,2,3,4,5,6}                 \n",
        "✅ Used in random sampling and simulations.\n",
        "\n",
        "---\n",
        "###7. What are the key properties of a Bernoulli distribution?\n",
        "A Bernoulli distribution models a single trial with two outcomes:\n",
        "\n",
        "Success (\n",
        "X=1) with probability\n",
        "p.\n",
        "\n",
        "Failure(\n",
        "X=0) with probability\n",
        "1−p.\n",
        "\n",
        "Properties:\n",
        "\n",
        "Mean:\n",
        "E[X]=p\n",
        "\n",
        "Variance:\n",
        "Var(X)=p(1−p)\n",
        "\n",
        "Example:\n",
        "\n",
        "\n",
        "Flipping a coin:\n",
        "P(Heads)=0.5,P(Tails)=0.5.\n",
        "\n",
        "---\n",
        "###8. What is the binomial distribution, and how is it used in probability?\n",
        "A binomial distribution represents the number of successes in n independent Bernoulli trials.\n",
        "\n",
        "Formula:\n",
        "P(X=k)=(\n",
        "k\n",
        "n\n",
        "​\n",
        " )p\n",
        "k\n",
        " (1−p)\n",
        "n−k\n",
        "\n",
        "where\n",
        "k is the number of successes,\n",
        "p is success probability, and\n",
        "n is trials.\n",
        "\n",
        "Example:\n",
        "\n",
        "Probability of getting 3 heads in 5 coin flips.\n",
        "\n",
        "✅ Used in A/B testing, quality control, and risk analysis.\n",
        "\n",
        "---\n",
        "###9. What is the Poisson distribution, and where is it applied?\n",
        "The Poisson distribution models the number of events occurring in a fixed time when events happen independently at a constant rate.\n",
        "\n",
        "Formula:\n",
        "P(X=k)=\n",
        "k!\n",
        "e\n",
        "−λ\n",
        " λ\n",
        "k\n",
        "\n",
        "where\n",
        "λ is the average number of events per unit time.\n",
        "\n",
        "Example:\n",
        "\n",
        "Number of customer arrivals at a store per hour.\n",
        "Number of defects in a batch of products.\n",
        "\n",
        "✅ Used in queue theory, network traffic, and event prediction.\n",
        "\n",
        "---\n",
        "###10. What is a continuous uniform distribution?\n",
        "A continuous uniform distribution means all values in a range [a, b] have equal probability density.\n",
        "\n",
        "PDF:\n",
        "f(x)=\n",
        "1/\n",
        "b−a\n",
        " ,a≤x≤b\n",
        "Example:\n",
        "\n",
        "Generating random numbers between 0 and 1 in Python.               \n",
        "✅ Used in simulation, Monte Carlo methods.\n",
        "\n",
        "---\n",
        "###11. What are the characteristics of a normal distribution?\n",
        "The normal distribution is bell-shaped and symmetric.\n",
        "\n",
        "Properties:\n",
        "\n",
        "Mean = Median = Mode.                                                   \n",
        "Defined by mean (\n",
        "μ) and standard deviation (\n",
        "σ).                                                                                                              \n",
        "68-95-99.7 Rule:                                                     \n",
        "68% of values in 1σ range.                                             \n",
        "95% in 2σ.                                                          \n",
        "99.7% in 3σ.                                                             \n",
        "✅ Used in: Natural processes (heights, IQ scores, stock returns).\n",
        "\n",
        "---\n",
        "###12. What is the standard normal distribution, and why is it important?\n",
        "A standard normal distribution has:\n",
        "\n",
        "Mean\n",
        "μ=0\n",
        "Standard deviation\n",
        "σ=1.                                                                \n",
        "✅ Used for Z-score calculations to compare data from different normal distributions.\n",
        "\n",
        "---\n",
        "###13. What is the Central Limit Theorem (CLT), and why is it critical in statistics?\n",
        "The CLT states that for a large enough sample size, the sample mean follows a normal distribution, regardless of the original population distribution.                        \n",
        "\n",
        "Why is it important?\n",
        "\n",
        "Enables hypothesis testing and confidence intervals.                 \n",
        "Justifies using the normal distribution for many real-world datasets.\n",
        "\n",
        "---\n",
        "###14. How does the Central Limit Theorem relate to the normal distribution?\n",
        "The Central Limit Theorem (CLT) states that the sampling distribution of the sample mean will approach a normal distribution as the sample size increases, regardless of the original population distribution.\n",
        "\n",
        "Even if the population is not normal, the sample means follow a normal distribution when\n",
        "n is large (\n",
        "n≥30 is a common rule).                               \n",
        "This property allows us to apply normal-based inferential statistics (like confidence intervals and hypothesis tests).\n",
        "\n",
        "---\n",
        "###15. What is the application of Z statistics in hypothesis testing?\n",
        "Z-statistics (Z-tests) are used when:\n",
        "The sample size is large (\n",
        "n≥30).\n",
        "The population variance is known or assumed.                       \n",
        "Applications in Hypothesis Testing:\n",
        "\n",
        "One-Sample Z-Test → To test if the sample mean differs from a known population mean.                                                 \n",
        "Two-Sample Z-Test → To compare the means of two independent samples.      \n",
        "Z-Test for Proportions → Used when comparing proportions in categorical data.\n",
        "\n",
        "---\n",
        "###16. How do you calculate a Z-score, and what does it represent?\n",
        "The Z-score (also called the standard score) measures how many standard deviations a data point is from the mean.                              \n",
        "Formula:\n",
        "Z=\n",
        "σ\n",
        "X−μ\n",
        "​\n",
        "\n",
        "Where:\n",
        "X = observed value                                               \n",
        "μ = population mean                                                      \n",
        "σ = standard deviation                                              \n",
        "Interpretation:                                                           \n",
        "Z>0 → Value is above the mean                                             \n",
        "Z<0 → Value is below the mean                                             \n",
        "∣Z∣>2 → Value is unusual (outlier possibility)\n",
        "\n",
        "---\n",
        "###17. What are point estimates and interval estimates in statistics?\n",
        "Point Estimate → A single value estimate of a population parameter.         \n",
        "Example: Sample mean (\n",
        "x\n",
        "ˉ\n",
        " ) is a point estimate of the population mean (\n",
        "μ).\n",
        "Interval Estimate → A range of values where the true parameter is expected to lie, often with a confidence level.                    \n",
        "\n",
        "Example: Confidence intervals provide an estimate range like\n",
        "50±2 (48 to 52).\n",
        "\n",
        "---\n",
        "###18. What is the significance of confidence intervals in statistical analysis?\n",
        "A confidence interval (CI) gives a range of plausible values for a population parameter instead of a single value.\n",
        "\n",
        "Formula for CI (for mean):\n",
        "CI=\n",
        "x\n",
        "ˉ\n",
        " ±Z×\n",
        "n\n",
        "σ\n",
        "\n",
        "\n",
        "Where:\n",
        "x\n",
        "ˉ = Sample mean\n",
        "\n",
        "Z = Z-score from standard normal table\n",
        "\n",
        "σ = Population standard deviation\n",
        "\n",
        "n = Sample size\n",
        "\n",
        "---\n",
        "###19. What is the relationship between a Z-score and a confidence interval?\n",
        "The Z-score determines the critical value for constructing a confidence interval.            \n",
        "\n",
        "Common Z-scores for CIs:\n",
        "\n",
        "90% CI →\n",
        "Z=1.645\n",
        "\n",
        "95% CI →\n",
        "Z=1.96\n",
        "\n",
        "99% CI →\n",
        "Z=2.57\n",
        "\n",
        "Relationship:\n",
        "\n",
        "Higher Z-score → Wider confidence interval → More certainty but less precision.                                                             \n",
        "Lower Z-score → Narrower confidence interval → Less certainty but more precision.   \n",
        "\n",
        "---\n",
        "###20. How are Z-scores used to compare different distributions?\n",
        "Z-scores standardize different distributions so they can be compared on the same scale.\n",
        "\n",
        "Uses:\n",
        "\n",
        "Comparing student test scores from different exams with different means.\n",
        "Comparing financial returns across different investment options.\n",
        "\n",
        "---\n",
        "###21. What are the assumptions for applying the Central Limit Theorem?\n",
        "Key Assumptions:\n",
        "\n",
        "Random Sampling → Data should be randomly selected.                   \n",
        "Independence → Each sample should be independent of the others.          \n",
        "Sample Size →\n",
        "n≥30 for CLT to hold.                                                   \n",
        "Finite Variance → Population should have finite variance.\n",
        "\n",
        "---\n",
        "###22. What is the concept of expected value in a probability distribution?\n",
        "The expected value (EV) represents the long-run average outcome of a random variable.\n",
        "\n",
        "\n",
        "Formula:\n",
        "E(X)=∑XP(X)\n",
        "\n",
        "---\n",
        "###23. How does a probability distribution relate to the expected outcome of a random variable?\n",
        "The probability distribution defines the likelihood of different outcomes, and the expected value gives the weighted average outcome based on those probabilities.\n",
        "\n",
        "---\n",
        "---\n",
        "#Practical Answers:-\n",
        "---\n",
        "---\n",
        "###1. Write a Python program to generate a random variable and display its value.\n",
        "\n"
      ],
      "metadata": {
        "id": "jsqu1ZK9kOib"
      }
    },
    {
      "cell_type": "code",
      "source": [
        "import numpy as np\n",
        "\n",
        "random_variable = np.random.rand()  # Generates a random value between 0 and 1\n",
        "print(\"Random Variable:\", random_variable)"
      ],
      "metadata": {
        "id": "oDH3oeoXqMmj"
      },
      "execution_count": null,
      "outputs": []
    },
    {
      "cell_type": "markdown",
      "source": [
        "###2. Generate a discrete uniform distribution using Python and plot the probability mass function (PMF)."
      ],
      "metadata": {
        "id": "aTuK8yn0qQPp"
      }
    },
    {
      "cell_type": "code",
      "source": [
        "import numpy as np\n",
        "import matplotlib.pyplot as plt\n",
        "import seaborn as sns\n",
        "from scipy.stats import randint\n",
        "\n",
        "low, high, size = 1, 6, 1000  # Rolling a fair die (1 to 6)\n",
        "data = randint.rvs(low, high + 1, size=size)\n",
        "\n",
        "# PMF Plot\n",
        "sns.histplot(data, bins=range(low, high + 2), discrete=True, stat=\"probability\", edgecolor='black')\n",
        "plt.xlabel('Values')\n",
        "plt.ylabel('Probability')\n",
        "plt.title('PMF of Discrete Uniform Distribution')\n",
        "plt.show()"
      ],
      "metadata": {
        "id": "i2br71T_qVVh"
      },
      "execution_count": null,
      "outputs": []
    },
    {
      "cell_type": "markdown",
      "source": [
        "###3. Write a Python function to calculate the probability distribution function (PDF) of a Bernoulli distribution."
      ],
      "metadata": {
        "id": "wdfC2BLrqZm6"
      }
    },
    {
      "cell_type": "code",
      "source": [
        "from scipy.stats import bernoulli\n",
        "\n",
        "def bernoulli_pdf(p, x):\n",
        "    return bernoulli.pmf(x, p)\n",
        "\n",
        "p = 0.5  # Probability of success\n",
        "x_values = [0, 1]\n",
        "\n",
        "for x in x_values:\n",
        "    print(f\"P(X={x}) = {bernoulli_pdf(p, x)}\")"
      ],
      "metadata": {
        "id": "ul2cyxOoqehp"
      },
      "execution_count": null,
      "outputs": []
    },
    {
      "cell_type": "markdown",
      "source": [
        "###4. Write a Python script to simulate a binomial distribution with n=10 and p=0.5, then plot its histogram."
      ],
      "metadata": {
        "id": "_H8X3z34qkVB"
      }
    },
    {
      "cell_type": "code",
      "source": [
        "import numpy as np\n",
        "import matplotlib.pyplot as plt\n",
        "from scipy.stats import binom\n",
        "\n",
        "n, p = 10, 0.5\n",
        "data = binom.rvs(n, p, size=1000)\n",
        "\n",
        "plt.hist(data, bins=range(n+2), density=True, alpha=0.75, edgecolor=\"black\")\n",
        "plt.xlabel(\"Number of Successes\")\n",
        "plt.ylabel(\"Probability\")\n",
        "plt.title(\"Binomial Distribution (n=10, p=0.5)\")\n",
        "plt.show()"
      ],
      "metadata": {
        "id": "k4MCUgUtqrJZ"
      },
      "execution_count": null,
      "outputs": []
    },
    {
      "cell_type": "markdown",
      "source": [
        "###5. Create a Poisson distribution and visualize it using Python."
      ],
      "metadata": {
        "id": "td7f1boGqzsp"
      }
    },
    {
      "cell_type": "code",
      "source": [
        "import numpy as np\n",
        "import matplotlib.pyplot as plt\n",
        "from scipy.stats import poisson\n",
        "\n",
        "lam = 4  # Average occurrences\n",
        "data = poisson.rvs(lam, size=1000)\n",
        "\n",
        "plt.hist(data, bins=range(min(data), max(data) + 2), density=True, alpha=0.7, edgecolor='black')\n",
        "plt.xlabel(\"Occurrences\")\n",
        "plt.ylabel(\"Probability\")\n",
        "plt.title(\"Poisson Distribution (λ=4)\")\n",
        "plt.show()"
      ],
      "metadata": {
        "id": "s2nTUmGIq50A"
      },
      "execution_count": null,
      "outputs": []
    },
    {
      "cell_type": "markdown",
      "source": [
        "###6. Write a Python program to calculate and plot the cumulative distribution function (CDF) of a discrete uniform distribution."
      ],
      "metadata": {
        "id": "y2CxTeyTq-WA"
      }
    },
    {
      "cell_type": "code",
      "source": [
        "import numpy as np\n",
        "import matplotlib.pyplot as plt\n",
        "from scipy.stats import randint\n",
        "\n",
        "low, high = 1, 6\n",
        "x = np.arange(low, high + 1)\n",
        "cdf_values = randint.cdf(x, low, high + 1)\n",
        "\n",
        "plt.step(x, cdf_values, where='post', marker=\"o\", color=\"red\")\n",
        "plt.xlabel(\"Values\")\n",
        "plt.ylabel(\"Cumulative Probability\")\n",
        "plt.title(\"CDF of Discrete Uniform Distribution\")\n",
        "plt.grid()\n",
        "plt.show()"
      ],
      "metadata": {
        "id": "9YZXxLuKrE84"
      },
      "execution_count": null,
      "outputs": []
    },
    {
      "cell_type": "markdown",
      "source": [
        "###7. Generate a continuous uniform distribution using NumPy and visualize it."
      ],
      "metadata": {
        "id": "muhQ36aXrJYw"
      }
    },
    {
      "cell_type": "code",
      "source": [
        "import numpy as np\n",
        "import matplotlib.pyplot as plt\n",
        "\n",
        "data = np.random.uniform(0, 1, 1000)  # Uniform distribution between 0 and 1\n",
        "plt.hist(data, bins=30, density=True, alpha=0.7, edgecolor=\"black\")\n",
        "plt.xlabel(\"Value\")\n",
        "plt.ylabel(\"Density\")\n",
        "plt.title(\"Continuous Uniform Distribution\")\n",
        "plt.show()"
      ],
      "metadata": {
        "id": "YIKCoOKnrRTQ"
      },
      "execution_count": null,
      "outputs": []
    },
    {
      "cell_type": "markdown",
      "source": [
        "###8. Simulate data from a normal distribution and plot its histogram."
      ],
      "metadata": {
        "id": "jw4nzjM3rVN3"
      }
    },
    {
      "cell_type": "code",
      "source": [
        "import numpy as np\n",
        "import matplotlib.pyplot as plt\n",
        "\n",
        "mu, sigma = 0, 1  # Mean and standard deviation\n",
        "data = np.random.normal(mu, sigma, 1000)\n",
        "\n",
        "plt.hist(data, bins=30, density=True, alpha=0.7, edgecolor=\"black\")\n",
        "plt.xlabel(\"Value\")\n",
        "plt.ylabel(\"Density\")\n",
        "plt.title(\"Histogram of Normally Distributed Data\")\n",
        "plt.show()"
      ],
      "metadata": {
        "id": "lJWpqqg5rbFg"
      },
      "execution_count": null,
      "outputs": []
    },
    {
      "cell_type": "markdown",
      "source": [
        "###9.  Write a Python function to calculate Z-scores from a dataset and plot them."
      ],
      "metadata": {
        "id": "A_ifuhFprjpH"
      }
    },
    {
      "cell_type": "code",
      "source": [
        "import numpy as np\n",
        "import scipy.stats as stats\n",
        "import matplotlib.pyplot as plt\n",
        "\n",
        "data = np.random.normal(50, 10, 100)  # Sample dataset\n",
        "z_scores = stats.zscore(data)\n",
        "\n",
        "plt.hist(z_scores, bins=20, density=True, alpha=0.7, edgecolor=\"black\")\n",
        "plt.xlabel(\"Z-Score\")\n",
        "plt.ylabel(\"Density\")\n",
        "plt.title(\"Z-Scores of the Dataset\")\n",
        "plt.show()\n",
        "\n",
        "print(\"Z-Scores:\\n\", z_scores)"
      ],
      "metadata": {
        "id": "En5JAKXprong"
      },
      "execution_count": null,
      "outputs": []
    },
    {
      "cell_type": "markdown",
      "source": [
        "###10. Implement the Central Limit Theorem (CLT) using Python for a non-normal distribution."
      ],
      "metadata": {
        "id": "dfAsHz0Grr74"
      }
    },
    {
      "cell_type": "code",
      "source": [
        "import numpy as np\n",
        "import matplotlib.pyplot as plt\n",
        "\n",
        "sample_size = 30\n",
        "num_samples = 1000\n",
        "\n",
        "# Generating skewed distribution (exponential)\n",
        "original_data = np.random.exponential(scale=2, size=10000)\n",
        "\n",
        "# Applying CLT: Taking means of samples\n",
        "sample_means = [np.mean(np.random.choice(original_data, sample_size)) for _ in range(num_samples)]\n",
        "\n",
        "# Plotting original and sample mean distributions\n",
        "plt.figure(figsize=(12,5))\n",
        "\n",
        "plt.subplot(1,2,1)\n",
        "plt.hist(original_data, bins=30, density=True, alpha=0.7, edgecolor=\"black\")\n",
        "plt.title(\"Original Skewed Distribution\")\n",
        "\n",
        "plt.subplot(1,2,2)\n",
        "plt.hist(sample_means, bins=30, density=True, alpha=0.7, edgecolor=\"black\")\n",
        "plt.title(\"Sample Means (CLT Applied)\")\n",
        "\n",
        "plt.show()"
      ],
      "metadata": {
        "id": "cPw-x7m6ryKP"
      },
      "execution_count": null,
      "outputs": []
    },
    {
      "cell_type": "markdown",
      "source": [
        "###11. Simulate multiple samples from a normal distribution and verify the Central Limit Theorem."
      ],
      "metadata": {
        "id": "zKCkv5Cer-z-"
      }
    },
    {
      "cell_type": "code",
      "source": [
        "import numpy as np\n",
        "import matplotlib.pyplot as plt\n",
        "\n",
        "mu, sigma = 50, 10  # Mean and Standard Deviation\n",
        "sample_size = 30\n",
        "num_samples = 1000\n",
        "\n",
        "# Generate normal samples\n",
        "sample_means = [np.mean(np.random.normal(mu, sigma, sample_size)) for _ in range(num_samples)]\n",
        "\n",
        "plt.hist(sample_means, bins=30, density=True, alpha=0.7, edgecolor=\"black\")\n",
        "plt.xlabel(\"Sample Mean\")\n",
        "plt.ylabel(\"Density\")\n",
        "plt.title(\"Sample Means Distribution (CLT Verification)\")\n",
        "plt.show()"
      ],
      "metadata": {
        "id": "eomf8XnwtIud"
      },
      "execution_count": null,
      "outputs": []
    },
    {
      "cell_type": "markdown",
      "source": [
        "###12. Write a Python function to calculate and plot the standard normal distribution (mean = 0, std = 1)."
      ],
      "metadata": {
        "id": "vA_ezanctYbN"
      }
    },
    {
      "cell_type": "code",
      "source": [
        "import numpy as np\n",
        "import matplotlib.pyplot as plt\n",
        "from scipy.stats import norm\n",
        "\n",
        "x = np.linspace(-4, 4, 1000)\n",
        "pdf_values = norm.pdf(x, 0, 1)\n",
        "\n",
        "plt.plot(x, pdf_values, label=\"Standard Normal Distribution\")\n",
        "plt.xlabel(\"Z-Score\")\n",
        "plt.ylabel(\"Probability Density\")\n",
        "plt.title(\"Standard Normal Distribution\")\n",
        "plt.legend()\n",
        "plt.show()"
      ],
      "metadata": {
        "id": "FrcFrirqtivs"
      },
      "execution_count": null,
      "outputs": []
    },
    {
      "cell_type": "markdown",
      "source": [
        "###13. Generate random variables and calculate their corresponding probabilities using the binomial distribution."
      ],
      "metadata": {
        "id": "B7Lqvi3evUsp"
      }
    },
    {
      "cell_type": "code",
      "source": [
        "from scipy.stats import binom\n",
        "\n",
        "n, p = 10, 0.5\n",
        "x_values = np.arange(0, n + 1)\n",
        "probabilities = binom.pmf(x_values, n, p)\n",
        "\n",
        "for x, prob in zip(x_values, probabilities):\n",
        "    print(f\"P(X={x}) = {prob:.4f}\")"
      ],
      "metadata": {
        "id": "iA-clB-Kvbfx"
      },
      "execution_count": null,
      "outputs": []
    },
    {
      "cell_type": "markdown",
      "source": [
        "###14. Write a Python program to calculate the Z-score for a given data point and compare it to a standard normal distribution."
      ],
      "metadata": {
        "id": "f3XBCiP9ve7x"
      }
    },
    {
      "cell_type": "code",
      "source": [
        "import numpy as np\n",
        "from scipy.stats import norm\n",
        "\n",
        "def calculate_z_score(x, mu, sigma):\n",
        "    return (x - mu) / sigma\n",
        "\n",
        "x_value = 60\n",
        "mu, sigma = 50, 10\n",
        "\n",
        "z_score = calculate_z_score(x_value, mu, sigma)\n",
        "p_value = norm.cdf(z_score)\n",
        "\n",
        "print(f\"Z-score: {z_score:.2f}, Probability: {p_value:.4f}\")"
      ],
      "metadata": {
        "id": "66j27gJyvldB"
      },
      "execution_count": null,
      "outputs": []
    },
    {
      "cell_type": "markdown",
      "source": [
        "###15. Implement hypothesis testing using Z-statistics for a sample dataset."
      ],
      "metadata": {
        "id": "HgosaIp7vpIx"
      }
    },
    {
      "cell_type": "code",
      "source": [
        "import numpy as np\n",
        "from scipy.stats import norm\n",
        "\n",
        "sample_mean = 52\n",
        "population_mean = 50\n",
        "sigma = 10\n",
        "n = 30\n",
        "\n",
        "z_score = (sample_mean - population_mean) / (sigma / np.sqrt(n))\n",
        "p_value = 2 * (1 - norm.cdf(abs(z_score)))\n",
        "\n",
        "print(f\"Z-score: {z_score:.2f}, P-value: {p_value:.4f}\")\n",
        "if p_value < 0.05:\n",
        "    print(\"Reject the null hypothesis.\")\n",
        "else:\n",
        "    print(\"Fail to reject the null hypothesis.\")"
      ],
      "metadata": {
        "id": "PMMgTx2Wvy6R"
      },
      "execution_count": null,
      "outputs": []
    },
    {
      "cell_type": "markdown",
      "source": [
        "###16. Create a confidence interval for a dataset using Python and interpret the result."
      ],
      "metadata": {
        "id": "9JH7OPdyv2G4"
      }
    },
    {
      "cell_type": "code",
      "source": [
        "import numpy as np\n",
        "from scipy.stats import norm\n",
        "\n",
        "data = np.random.normal(50, 10, 30)\n",
        "mean = np.mean(data)\n",
        "std_error = np.std(data, ddof=1) / np.sqrt(len(data))\n",
        "\n",
        "z_critical = norm.ppf(0.975)\n",
        "margin_of_error = z_critical * std_error\n",
        "conf_interval = (mean - margin_of_error, mean + margin_of_error)\n",
        "\n",
        "print(f\"95% Confidence Interval: {conf_interval}\")"
      ],
      "metadata": {
        "id": "i7dAAqxRv7HK"
      },
      "execution_count": null,
      "outputs": []
    },
    {
      "cell_type": "markdown",
      "source": [
        "###17. Generate data from a normal distribution, then calculate and interpret the confidence interval for its mean."
      ],
      "metadata": {
        "id": "rRbNClePv-RQ"
      }
    },
    {
      "cell_type": "code",
      "source": [
        "data = np.random.normal(50, 10, 100)\n",
        "mean, std_dev = np.mean(data), np.std(data, ddof=1)\n",
        "std_error = std_dev / np.sqrt(len(data))\n",
        "\n",
        "z_critical = norm.ppf(0.975)\n",
        "margin_of_error = z_critical * std_error\n",
        "conf_interval = (mean - margin_of_error, mean + margin_of_error)\n",
        "\n",
        "print(f\"Mean: {mean:.2f}, 95% Confidence Interval: {conf_interval}\")"
      ],
      "metadata": {
        "id": "Th3V3YdRwE2I"
      },
      "execution_count": null,
      "outputs": []
    },
    {
      "cell_type": "markdown",
      "source": [
        "###18. Write a Python script to calculate and visualize the probability density function (PDF) of a normal distribution."
      ],
      "metadata": {
        "id": "CsmexUpEwJa4"
      }
    },
    {
      "cell_type": "code",
      "source": [
        "import numpy as np\n",
        "import matplotlib.pyplot as plt\n",
        "from scipy.stats import norm\n",
        "\n",
        "mu, sigma = 50, 10\n",
        "x = np.linspace(mu - 4*sigma, mu + 4*sigma, 1000)\n",
        "pdf_values = norm.pdf(x, mu, sigma)\n",
        "\n",
        "plt.plot(x, pdf_values, label=\"Normal PDF\")\n",
        "plt.xlabel(\"Value\")\n",
        "plt.ylabel(\"Probability Density\")\n",
        "plt.title(\"Probability Density Function of Normal Distribution\")\n",
        "plt.legend()\n",
        "plt.show()"
      ],
      "metadata": {
        "id": "xGpr0MdcwIkY"
      },
      "execution_count": null,
      "outputs": []
    },
    {
      "cell_type": "markdown",
      "source": [
        "###19. Use Python to calculate and interpret the cumulative distribution function (CDF) of a Poisson distribution."
      ],
      "metadata": {
        "id": "O3QCR0d7wSwo"
      }
    },
    {
      "cell_type": "code",
      "source": [
        "from scipy.stats import poisson\n",
        "\n",
        "lambda_value = 4\n",
        "x_values = np.arange(0, 10)\n",
        "cdf_values = poisson.cdf(x_values, lambda_value)\n",
        "\n",
        "for x, prob in zip(x_values, cdf_values):\n",
        "    print(f\"P(X ≤ {x}) = {prob:.4f}\")"
      ],
      "metadata": {
        "id": "6p50-d3FwZY3"
      },
      "execution_count": null,
      "outputs": []
    },
    {
      "cell_type": "markdown",
      "source": [
        "###20. Simulate a random variable using a continuous uniform distribution and calculate its expected value."
      ],
      "metadata": {
        "id": "5tlGRsEzwfXH"
      }
    },
    {
      "cell_type": "code",
      "source": [
        "data = np.random.uniform(0, 10, 1000)\n",
        "expected_value = np.mean(data)\n",
        "\n",
        "print(f\"Expected Value: {expected_value:.2f}\")"
      ],
      "metadata": {
        "id": "7yLAFKCkwku_"
      },
      "execution_count": null,
      "outputs": []
    },
    {
      "cell_type": "markdown",
      "source": [
        "###21. Write a Python program to compare the standard deviations of two datasets and visualize the difference."
      ],
      "metadata": {
        "id": "dkL5I2KywoT_"
      }
    },
    {
      "cell_type": "code",
      "source": [
        "import numpy as np\n",
        "import matplotlib.pyplot as plt\n",
        "\n",
        "data1 = np.random.normal(50, 5, 1000)\n",
        "data2 = np.random.normal(50, 15, 1000)\n",
        "\n",
        "std1, std2 = np.std(data1), np.std(data2)\n",
        "\n",
        "plt.hist(data1, bins=30, alpha=0.5, label=f\"Std Dev = {std1:.2f}\")\n",
        "plt.hist(data2, bins=30, alpha=0.5, label=f\"Std Dev = {std2:.2f}\")\n",
        "plt.legend()\n",
        "plt.xlabel(\"Values\")\n",
        "plt.ylabel(\"Frequency\")\n",
        "plt.title(\"Comparison of Standard Deviations\")\n",
        "plt.show()"
      ],
      "metadata": {
        "id": "53M6mP8GwwLP"
      },
      "execution_count": null,
      "outputs": []
    },
    {
      "cell_type": "markdown",
      "source": [
        "###22. Calculate the range and interquartile range (IQR) of a dataset generated from a normal distribution."
      ],
      "metadata": {
        "id": "tkMHzOB8wzSg"
      }
    },
    {
      "cell_type": "code",
      "source": [
        "data = np.random.normal(50, 10, 100)\n",
        "\n",
        "range_value = np.ptp(data)\n",
        "q1, q3 = np.percentile(data, [25, 75])\n",
        "iqr = q3 - q1\n",
        "\n",
        "print(f\"Range: {range_value:.2f}, IQR: {iqr:.2f}\")"
      ],
      "metadata": {
        "id": "kO51jahAw6sv"
      },
      "execution_count": null,
      "outputs": []
    },
    {
      "cell_type": "markdown",
      "source": [
        "###23. Implement Z-score normalization on a dataset and visualize its transformation."
      ],
      "metadata": {
        "id": "o8yuLUnbxA8-"
      }
    },
    {
      "cell_type": "code",
      "source": [
        "from scipy.stats import zscore\n",
        "\n",
        "data = np.random.normal(50, 10, 100)\n",
        "normalized_data = zscore(data)\n",
        "\n",
        "plt.hist(normalized_data, bins=30, alpha=0.7, edgecolor=\"black\")\n",
        "plt.xlabel(\"Z-Score\")\n",
        "plt.ylabel(\"Density\")\n",
        "plt.title(\"Z-Score Normalized Data\")\n",
        "plt.show()"
      ],
      "metadata": {
        "id": "Pa03msbNxGMf"
      },
      "execution_count": null,
      "outputs": []
    },
    {
      "cell_type": "markdown",
      "source": [
        "###24. Write a Python function to calculate the skewness and kurtosis of a dataset generated from a normal distribution."
      ],
      "metadata": {
        "id": "M7XokkkqxJgW"
      }
    },
    {
      "cell_type": "code",
      "source": [
        "from scipy.stats import skew, kurtosis\n",
        "data = np.random.normal(50, 10, 1000)\n",
        "skewness = skew(data)\n",
        "kurt = kurtosis(data)\n",
        "\n",
        "print(f\"Skewness: {skewness:.2f}, Kurtosis: {kurt:.2f}\")"
      ],
      "metadata": {
        "id": "ZObM4YLlxQFG"
      },
      "execution_count": null,
      "outputs": []
    }
  ]
}